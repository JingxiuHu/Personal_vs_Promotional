{
 "cells": [
  {
   "cell_type": "markdown",
   "metadata": {},
   "source": [
    "Read in dataset"
   ]
  },
  {
   "cell_type": "code",
   "execution_count": 1,
   "metadata": {},
   "outputs": [],
   "source": [
    "import pandas as pd"
   ]
  },
  {
   "cell_type": "code",
   "execution_count": 2,
   "metadata": {},
   "outputs": [],
   "source": [
    "train = pd.read_csv(\"/Users/jingxiuhu/desktop/capstone/data/train.csv\")\n",
    "test = pd.read_csv(\"/Users/jingxiuhu/desktop/capstone/data/test.csv\")"
   ]
  },
  {
   "cell_type": "code",
   "execution_count": 3,
   "metadata": {},
   "outputs": [
    {
     "data": {
      "text/html": [
       "<div>\n",
       "<style scoped>\n",
       "    .dataframe tbody tr th:only-of-type {\n",
       "        vertical-align: middle;\n",
       "    }\n",
       "\n",
       "    .dataframe tbody tr th {\n",
       "        vertical-align: top;\n",
       "    }\n",
       "\n",
       "    .dataframe thead th {\n",
       "        text-align: right;\n",
       "    }\n",
       "</style>\n",
       "<table border=\"1\" class=\"dataframe\">\n",
       "  <thead>\n",
       "    <tr style=\"text-align: right;\">\n",
       "      <th></th>\n",
       "      <th>Id</th>\n",
       "      <th>date</th>\n",
       "      <th>org</th>\n",
       "      <th>tld</th>\n",
       "      <th>ccs</th>\n",
       "      <th>bcced</th>\n",
       "      <th>mail_type</th>\n",
       "      <th>images</th>\n",
       "      <th>urls</th>\n",
       "      <th>salutations</th>\n",
       "      <th>designation</th>\n",
       "      <th>chars_in_subject</th>\n",
       "      <th>chars_in_body</th>\n",
       "      <th>label</th>\n",
       "    </tr>\n",
       "  </thead>\n",
       "  <tbody>\n",
       "    <tr>\n",
       "      <th>431</th>\n",
       "      <td>431</td>\n",
       "      <td>Sat, 27 Aug 2016 03:29:45 +0000 (GMT)</td>\n",
       "      <td>ndtvecommerce</td>\n",
       "      <td>com</td>\n",
       "      <td>0</td>\n",
       "      <td>0</td>\n",
       "      <td>multipart/alternative</td>\n",
       "      <td>10</td>\n",
       "      <td>95</td>\n",
       "      <td>1</td>\n",
       "      <td>0</td>\n",
       "      <td>38</td>\n",
       "      <td>31149</td>\n",
       "      <td>1</td>\n",
       "    </tr>\n",
       "    <tr>\n",
       "      <th>11079</th>\n",
       "      <td>11079</td>\n",
       "      <td>Mon, 29 Jan 2018 12:36:28 +0000 (UTC)</td>\n",
       "      <td>udacity</td>\n",
       "      <td>com</td>\n",
       "      <td>0</td>\n",
       "      <td>0</td>\n",
       "      <td>multipart/alternative</td>\n",
       "      <td>12</td>\n",
       "      <td>43</td>\n",
       "      <td>0</td>\n",
       "      <td>0</td>\n",
       "      <td>51</td>\n",
       "      <td>61943</td>\n",
       "      <td>1</td>\n",
       "    </tr>\n",
       "    <tr>\n",
       "      <th>1886</th>\n",
       "      <td>1886</td>\n",
       "      <td>Sun, 23 Oct 2016 08:59:07 +0000</td>\n",
       "      <td>twitter</td>\n",
       "      <td>com</td>\n",
       "      <td>0</td>\n",
       "      <td>0</td>\n",
       "      <td>multipart/alternative</td>\n",
       "      <td>31</td>\n",
       "      <td>200</td>\n",
       "      <td>0</td>\n",
       "      <td>0</td>\n",
       "      <td>48</td>\n",
       "      <td>106180</td>\n",
       "      <td>1</td>\n",
       "    </tr>\n",
       "    <tr>\n",
       "      <th>11779</th>\n",
       "      <td>11779</td>\n",
       "      <td>Fri, 10 Aug 2018 12:05:47 +0000</td>\n",
       "      <td>quora</td>\n",
       "      <td>com</td>\n",
       "      <td>0</td>\n",
       "      <td>0</td>\n",
       "      <td>multipart/alternative</td>\n",
       "      <td>14</td>\n",
       "      <td>114</td>\n",
       "      <td>1</td>\n",
       "      <td>1</td>\n",
       "      <td>56</td>\n",
       "      <td>106991</td>\n",
       "      <td>1</td>\n",
       "    </tr>\n",
       "    <tr>\n",
       "      <th>10934</th>\n",
       "      <td>10934</td>\n",
       "      <td>Tue, 19 Jan 2016 14:10:26 +0530</td>\n",
       "      <td>iiitd</td>\n",
       "      <td>ac.in</td>\n",
       "      <td>0</td>\n",
       "      <td>1</td>\n",
       "      <td>multipart/mixed</td>\n",
       "      <td>0</td>\n",
       "      <td>0</td>\n",
       "      <td>0</td>\n",
       "      <td>0</td>\n",
       "      <td>72</td>\n",
       "      <td>909796</td>\n",
       "      <td>0</td>\n",
       "    </tr>\n",
       "  </tbody>\n",
       "</table>\n",
       "</div>"
      ],
      "text/plain": [
       "          Id                                   date            org    tld  \\\n",
       "431      431  Sat, 27 Aug 2016 03:29:45 +0000 (GMT)  ndtvecommerce    com   \n",
       "11079  11079  Mon, 29 Jan 2018 12:36:28 +0000 (UTC)        udacity    com   \n",
       "1886    1886        Sun, 23 Oct 2016 08:59:07 +0000        twitter    com   \n",
       "11779  11779        Fri, 10 Aug 2018 12:05:47 +0000          quora    com   \n",
       "10934  10934        Tue, 19 Jan 2016 14:10:26 +0530          iiitd  ac.in   \n",
       "\n",
       "       ccs  bcced              mail_type  images  urls  salutations  \\\n",
       "431      0      0  multipart/alternative      10    95            1   \n",
       "11079    0      0  multipart/alternative      12    43            0   \n",
       "1886     0      0  multipart/alternative      31   200            0   \n",
       "11779    0      0  multipart/alternative      14   114            1   \n",
       "10934    0      1        multipart/mixed       0     0            0   \n",
       "\n",
       "       designation  chars_in_subject  chars_in_body  label  \n",
       "431              0                38          31149      1  \n",
       "11079            0                51          61943      1  \n",
       "1886             0                48         106180      1  \n",
       "11779            1                56         106991      1  \n",
       "10934            0                72         909796      0  "
      ]
     },
     "execution_count": 3,
     "metadata": {},
     "output_type": "execute_result"
    }
   ],
   "source": [
    "train.sample(n=5)"
   ]
  },
  {
   "cell_type": "code",
   "execution_count": 4,
   "metadata": {},
   "outputs": [
    {
     "name": "stdout",
     "output_type": "stream",
     "text": [
      "['iiitd' 'github' 'twitter' 'udacity' 'topcoder' 'quora' 'pvrcinemas'\n",
      " 'googlegroups' 'indiatimes' 'linkedin' 'centralesupelec' 'amazon' 'plus'\n",
      " 'crm' 'e' 'reply' 'angel' 'emailer' 'youtube' 'mails' 'usebackpack'\n",
      " 'hotmail' 'medium' 'symless' 'flipkartletters' 'getpostman' 'discuss'\n",
      " 'oracle-mail' 'academia-mail' 'statebankrewardz' 'edx' 'duolingo'\n",
      " 'hackerearth' 'unisys' 'facebookmail' 'brilliant' 'htc' 'mailer' 'mail'\n",
      " 'redwolf' nan 'mentor' 'researchgate' 'rs-components' 'nvidia' 'mail1'\n",
      " 'nedm' 'newsletter' 'geeksforgeeks' 'sampark' 'notifications' 'ruprr'\n",
      " 'airtable-2' 'news' 'marketing' 'codeschool' 'shop' 'ZOONIVERSE' 'send'\n",
      " 'explore' 'xprize' 'email' 'ndtvecommerce' 'web-spicejet' 'usief'\n",
      " 'innerchef' 'magoosh' 'media' 'bookmyshow' 'springboard' 'bigbasket'\n",
      " 'kaggle' 'in' 'signalprocessingsociety' 'researchgatemail' 'magento'\n",
      " 'codecademy' 'iheartdogs-email' 'updates' 't' 'lss' 'makemytripmails'\n",
      " 'phonepe' 'thomascook' 'neo4j' 'inoxmovies' 'primevideo' 'flat'\n",
      " 'datacamp' 'em' 'crazydomains' 'kotak' 'vairdo' 'airtable' 'imdb'\n",
      " 'coupondunia' 'pinterest' 'paytmemail' 'deeplearning' 'cleartrip'\n",
      " 'donate' 'ieee' 'quadkopters' 'mp1' 'm' 'newsgram' 'tatadocomo' 'dropbox'\n",
      " 'cambridge-intelligence' 'rapidapi' 'rcgroups' 'inria' 'emails' 'mapbox'\n",
      " 'tufinawatches' 'invite' 'national' 'walkfree' 'go' 'edm' 'technolutions'\n",
      " 'nptel' 'dataquest-0740d8e6e13d' 'synergy-project' 'entertainment'\n",
      " 'flipkartpromotions' 'outernet' 'sg' 'bg' 'insure' 'hackerrank' 'arya'\n",
      " 'overleaf' 'email1' 'messages' 'gmail' 'e-mail' 'paypal-exchanges'\n",
      " 'careers360' 'divx' 'referhire' 'cdconnect' 'mak' 'supelec' 'glassdoor'\n",
      " 'new' 'connect' 'Magento' 'neotechnology' 'communication' 'ecp'\n",
      " 'cbsnewsletter' 'digitalglobe-platform' 'limnu' 'myopportunity'\n",
      " 'clubvistara' 'fccashback' 'buffalo' 'readcube' 'awseducate' 'Mentor'\n",
      " 'flipkartmail' 'naaptoldeals' 'khanacademy' 'student-cs' 'trello'\n",
      " 'diydrones' 'oneplus' 'monsterindia' 'zoomgroup' 'atmel' 'ampleclick'\n",
      " 'ni' 'simbla' 'oneplusstore' 'hackerrankmail' 'maillist' 'cs'\n",
      " 'airpostmail' 'google' 'airvistara' 'stylusstudio' 'freshworks' 'emm'\n",
      " 'cardekholetters' 'applemusic' 'pbmails' 'info' 'diux' 'astrospeak'\n",
      " 'cakewalk' 'stackexchange' 'autodesk' 'sutlej-mail' 'interviewbit'\n",
      " 'creately' 'travel' 'healthie' 'et' 'apiai-a32c4dd4b716' 'docker'\n",
      " 'nobrokerletters' 'geeps' 'comma' 'imindmap' 'ride' 'naaptoldealz'\n",
      " 'box8letters' 'flipkart' 'pbmail' 'InsideApple' 'internations'\n",
      " 'repositoryhosting' 'trigger' 'Neotechnology' 'dcoder' 'blablacar'\n",
      " 'shining3d' 'foursquare' 'dropboxmail' 'agencenavigo' 'asuswebstorage'\n",
      " 'premiumjobalerts' 'sbi' 'cromaretail' 'smartsheet' 'twenty19' 'rcbazaar'\n",
      " 'marmalademail' 'entropay' 'payumoney' 'us' 'vito' 'truecaller'\n",
      " 'codeanywhere' 'olxemails' 'ready4' 'serviceclients' 'youth4work'\n",
      " 'naylormarketing' 'witai-2' 'asvspoof' 'centrepompidou' 'funaster' '126'\n",
      " 'globalfashion' 'pornhub' 'promo' 'layoutit' 'sc' 'critical'\n",
      " 'ames-it-solutions' 'flickr' 'uber' 'sci' 'policies' '3dr']\n",
      "257\n"
     ]
    }
   ],
   "source": [
    "print(train.org.unique())\n",
    "print(len(train.org.unique()))"
   ]
  },
  {
   "cell_type": "code",
   "execution_count": 5,
   "metadata": {},
   "outputs": [
    {
     "name": "stdout",
     "output_type": "stream",
     "text": [
      "['ac.in' 'com' 'fr' 'in' 'google.com' 'sdconnect.in' 'linkedin.com'\n",
      " 'ebay.in' 'co' 'cardekho.com' 'travel-makemytrip.com' 'pytorch.org' 'org'\n",
      " 'netflix.com' 'goodreads.com' nan 'net' 'co.in' 'prezi.com' 'asus.com'\n",
      " 'speakingtree.in' 'gov.in' 'pinterest.com' 'info' 'intercom-mail.com'\n",
      " 'foodpanda.in' 'goindigo.in' 'ORG' 'grammarly.com' 'nvidia.com' 'org.in'\n",
      " 'jabong.com' 'instagram.com' 'ieee.org' 'email' 'ibm.com'\n",
      " 'vincerowatches.com' 'paypal.com' 'bookmyshow.com' 'miscota.com'\n",
      " 'mail.coursera.org' 'supelec.fr' 'skype.com' 'io' 'ai' 'classmates.com'\n",
      " 'cardekhomailer.com' 'wfp.org' 'bitbucket.org' 'tripadvisor.com' 'hp.com'\n",
      " 'twitter.com' 'evernote.com' 'quoramail.com' 'lescrous.fr'\n",
      " 'surveymonkey.com' 'efinmail.com' 'iitm.ac.in' 'is' 'booking.com'\n",
      " 'vnet.ibm.com' 'reliancegeneral.co.in' 'asana.com' 'xoom.com' 'gopro.com'\n",
      " 'travel2-makemytrip.com' 'chtah.com' 'itunes.com' 'digitalglobe.com'\n",
      " 'microsoft.com' 'udacity.com' 'edu' 'godaddy.com' 'orkut.com'\n",
      " 'payback.in' 'codeproject.com' 'stanford.edu' 'ibmmail.com'\n",
      " 'mathworks.com' 'frankfurt-airport.news' 'change.org' 'mil' 'elitmus.biz'\n",
      " 'hobbyking.com' 'emails-makemytrip.com' 'uber.com' 'last.fm'\n",
      " 'centralesupelec.fr' 'bird.co' 'Apple.com' 'tech' 'oneplus.com' 'be'\n",
      " 'auchan.net' 'iiitd.ac.in' 'hosting' 'mobikwik.com' 'crazydomains.com'\n",
      " 'today' 'scientific-direct.net' 'mail.intercom.io']\n",
      "101\n"
     ]
    }
   ],
   "source": [
    "print(train.tld.unique())\n",
    "print(len(train.tld.unique()))"
   ]
  },
  {
   "cell_type": "code",
   "execution_count": 6,
   "metadata": {},
   "outputs": [
    {
     "name": "stdout",
     "output_type": "stream",
     "text": [
      "['multipart/alternative' 'multipart/mixed' 'text/html' 'text/plain'\n",
      " 'multipart/related' 'Text/Html' 'Multipart/Mixed']\n",
      "7\n"
     ]
    }
   ],
   "source": [
    "print(train.mail_type.unique())\n",
    "print(len(train.mail_type.unique()))"
   ]
  },
  {
   "cell_type": "code",
   "execution_count": null,
   "metadata": {},
   "outputs": [],
   "source": []
  }
 ],
 "metadata": {
  "kernelspec": {
   "display_name": "Python 3",
   "language": "python",
   "name": "python3"
  },
  "language_info": {
   "codemirror_mode": {
    "name": "ipython",
    "version": 3
   },
   "file_extension": ".py",
   "mimetype": "text/x-python",
   "name": "python",
   "nbconvert_exporter": "python",
   "pygments_lexer": "ipython3",
   "version": "3.7.3"
  }
 },
 "nbformat": 4,
 "nbformat_minor": 2
}
