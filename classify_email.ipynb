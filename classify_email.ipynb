{
 "cells": [
  {
   "cell_type": "code",
   "execution_count": 11,
   "metadata": {},
   "outputs": [],
   "source": [
    "import pandas as pd\n",
    "import seaborn as sns"
   ]
  },
  {
   "cell_type": "code",
   "execution_count": 12,
   "metadata": {},
   "outputs": [],
   "source": [
    "train = pd.read_csv(\"/Users/jingxiuhu/desktop/capstone/data/train.csv\")\n",
    "test = pd.read_csv(\"/Users/jingxiuhu/desktop/capstone/data/test.csv\")"
   ]
  },
  {
   "cell_type": "markdown",
   "metadata": {},
   "source": [
    "Id - the id of the email<br />\n",
    "date - date and time at which mail was received<br />\n",
    "org - the organisation of the sender<br />\n",
    "tld - top-level domain of the sender's organisation<br />\n",
    "ccs - number of people cc'd in the email<br />\n",
    "bcced - is the receiver bcc'd in the email<br />\n",
    "mail_type - the type of the mail body<br />\n",
    "images - number of images in the mail body<br />\n",
    "urls - number of urls in the mail body<br />\n",
    "salutations - is salutation used in the email?<br />\n",
    "designation - is designation of the sender mentioned in the email?<br />\n",
    "chars_in_subject - number of characters in the email's subject<br />\n",
    "chars_in_body - number of characters in the email's body<br />\n",
    "label - the label of the email(1 -> Promotional, 0 -> personal)<br />"
   ]
  },
  {
   "cell_type": "code",
   "execution_count": 13,
   "metadata": {
    "scrolled": true
   },
   "outputs": [
    {
     "data": {
      "text/html": [
       "<div>\n",
       "<style scoped>\n",
       "    .dataframe tbody tr th:only-of-type {\n",
       "        vertical-align: middle;\n",
       "    }\n",
       "\n",
       "    .dataframe tbody tr th {\n",
       "        vertical-align: top;\n",
       "    }\n",
       "\n",
       "    .dataframe thead th {\n",
       "        text-align: right;\n",
       "    }\n",
       "</style>\n",
       "<table border=\"1\" class=\"dataframe\">\n",
       "  <thead>\n",
       "    <tr style=\"text-align: right;\">\n",
       "      <th></th>\n",
       "      <th>Id</th>\n",
       "      <th>date</th>\n",
       "      <th>org</th>\n",
       "      <th>tld</th>\n",
       "      <th>ccs</th>\n",
       "      <th>bcced</th>\n",
       "      <th>mail_type</th>\n",
       "      <th>images</th>\n",
       "      <th>urls</th>\n",
       "      <th>salutations</th>\n",
       "      <th>designation</th>\n",
       "      <th>chars_in_subject</th>\n",
       "      <th>chars_in_body</th>\n",
       "      <th>label</th>\n",
       "    </tr>\n",
       "  </thead>\n",
       "  <tbody>\n",
       "    <tr>\n",
       "      <th>9243</th>\n",
       "      <td>9243</td>\n",
       "      <td>Mon, 11 Jan 2016 15:52:10 +0530</td>\n",
       "      <td>iiitd</td>\n",
       "      <td>ac.in</td>\n",
       "      <td>2</td>\n",
       "      <td>0</td>\n",
       "      <td>multipart/alternative</td>\n",
       "      <td>0</td>\n",
       "      <td>0</td>\n",
       "      <td>1</td>\n",
       "      <td>1</td>\n",
       "      <td>40</td>\n",
       "      <td>226658</td>\n",
       "      <td>0</td>\n",
       "    </tr>\n",
       "    <tr>\n",
       "      <th>40</th>\n",
       "      <td>40</td>\n",
       "      <td>Sat, 26 Aug 2017 14:42:45 +0530</td>\n",
       "      <td>iiitd</td>\n",
       "      <td>ac.in</td>\n",
       "      <td>8</td>\n",
       "      <td>0</td>\n",
       "      <td>multipart/alternative</td>\n",
       "      <td>0</td>\n",
       "      <td>0</td>\n",
       "      <td>1</td>\n",
       "      <td>0</td>\n",
       "      <td>35</td>\n",
       "      <td>14063</td>\n",
       "      <td>0</td>\n",
       "    </tr>\n",
       "    <tr>\n",
       "      <th>11529</th>\n",
       "      <td>11529</td>\n",
       "      <td>Mon, 21 May 2018 08:58:55 +0530</td>\n",
       "      <td>iiitd</td>\n",
       "      <td>ac.in</td>\n",
       "      <td>2</td>\n",
       "      <td>0</td>\n",
       "      <td>multipart/related</td>\n",
       "      <td>0</td>\n",
       "      <td>0</td>\n",
       "      <td>0</td>\n",
       "      <td>0</td>\n",
       "      <td>30</td>\n",
       "      <td>8926</td>\n",
       "      <td>0</td>\n",
       "    </tr>\n",
       "    <tr>\n",
       "      <th>8567</th>\n",
       "      <td>8567</td>\n",
       "      <td>Wed, 17 Aug 2016 09:10:46 +0530</td>\n",
       "      <td>iiitd</td>\n",
       "      <td>ac.in</td>\n",
       "      <td>0</td>\n",
       "      <td>0</td>\n",
       "      <td>multipart/alternative</td>\n",
       "      <td>0</td>\n",
       "      <td>0</td>\n",
       "      <td>1</td>\n",
       "      <td>0</td>\n",
       "      <td>36</td>\n",
       "      <td>5021</td>\n",
       "      <td>0</td>\n",
       "    </tr>\n",
       "    <tr>\n",
       "      <th>4897</th>\n",
       "      <td>4897</td>\n",
       "      <td>Sat, 15 Nov 2014 18:40:31 +0000</td>\n",
       "      <td>youtube</td>\n",
       "      <td>com</td>\n",
       "      <td>0</td>\n",
       "      <td>0</td>\n",
       "      <td>multipart/alternative</td>\n",
       "      <td>19</td>\n",
       "      <td>73</td>\n",
       "      <td>0</td>\n",
       "      <td>0</td>\n",
       "      <td>105</td>\n",
       "      <td>53146</td>\n",
       "      <td>1</td>\n",
       "    </tr>\n",
       "  </tbody>\n",
       "</table>\n",
       "</div>"
      ],
      "text/plain": [
       "          Id                             date      org    tld  ccs  bcced  \\\n",
       "9243    9243  Mon, 11 Jan 2016 15:52:10 +0530    iiitd  ac.in    2      0   \n",
       "40        40  Sat, 26 Aug 2017 14:42:45 +0530    iiitd  ac.in    8      0   \n",
       "11529  11529  Mon, 21 May 2018 08:58:55 +0530    iiitd  ac.in    2      0   \n",
       "8567    8567  Wed, 17 Aug 2016 09:10:46 +0530    iiitd  ac.in    0      0   \n",
       "4897    4897  Sat, 15 Nov 2014 18:40:31 +0000  youtube    com    0      0   \n",
       "\n",
       "                   mail_type  images  urls  salutations  designation  \\\n",
       "9243   multipart/alternative       0     0            1            1   \n",
       "40     multipart/alternative       0     0            1            0   \n",
       "11529      multipart/related       0     0            0            0   \n",
       "8567   multipart/alternative       0     0            1            0   \n",
       "4897   multipart/alternative      19    73            0            0   \n",
       "\n",
       "       chars_in_subject  chars_in_body  label  \n",
       "9243                 40         226658      0  \n",
       "40                   35          14063      0  \n",
       "11529                30           8926      0  \n",
       "8567                 36           5021      0  \n",
       "4897                105          53146      1  "
      ]
     },
     "execution_count": 13,
     "metadata": {},
     "output_type": "execute_result"
    }
   ],
   "source": [
    "train.sample(n=5)"
   ]
  },
  {
   "cell_type": "code",
   "execution_count": 17,
   "metadata": {},
   "outputs": [
    {
     "data": {
      "text/plain": [
       "(14064, 14)"
      ]
     },
     "execution_count": 17,
     "metadata": {},
     "output_type": "execute_result"
    }
   ],
   "source": [
    "train.shape"
   ]
  },
  {
   "cell_type": "markdown",
   "metadata": {},
   "source": [
    "Let's check if we have data imbalance."
   ]
  },
  {
   "cell_type": "code",
   "execution_count": 19,
   "metadata": {},
   "outputs": [
    {
     "data": {
      "text/plain": [
       "<matplotlib.axes._subplots.AxesSubplot at 0x11e484b00>"
      ]
     },
     "execution_count": 19,
     "metadata": {},
     "output_type": "execute_result"
    },
    {
     "data": {
      "image/png": "[encoded data removed]",
      "text/plain": [
       "<Figure size 432x288 with 1 Axes>"
      ]
     },
     "metadata": {
      "needs_background": "light"
     },
     "output_type": "display_data"
    }
   ],
   "source": [
    "sns.countplot(x = 'label', data = train)"
   ]
  },
  {
   "cell_type": "markdown",
   "metadata": {},
   "source": [
    "After checking if is there is any null values in our train dataframe, we can see we only have null values in for variables org and tld, and they both have 114 null values in it. We could replace these null values with \"no org\" and \"no tld\"."
   ]
  },
  {
   "cell_type": "code",
   "execution_count": 14,
   "metadata": {},
   "outputs": [
    {
     "data": {
      "text/plain": [
       "Id                  False\n",
       "date                False\n",
       "org                  True\n",
       "tld                  True\n",
       "ccs                 False\n",
       "bcced               False\n",
       "mail_type           False\n",
       "images              False\n",
       "urls                False\n",
       "salutations         False\n",
       "designation         False\n",
       "chars_in_subject    False\n",
       "chars_in_body       False\n",
       "label               False\n",
       "dtype: bool"
      ]
     },
     "execution_count": 14,
     "metadata": {},
     "output_type": "execute_result"
    }
   ],
   "source": [
    "train.isnull().any()"
   ]
  },
  {
   "cell_type": "code",
   "execution_count": 15,
   "metadata": {},
   "outputs": [
    {
     "data": {
      "text/plain": [
       "Id                    0\n",
       "date                  0\n",
       "org                 114\n",
       "tld                 114\n",
       "ccs                   0\n",
       "bcced                 0\n",
       "mail_type             0\n",
       "images                0\n",
       "urls                  0\n",
       "salutations           0\n",
       "designation           0\n",
       "chars_in_subject      0\n",
       "chars_in_body         0\n",
       "label                 0\n",
       "dtype: int64"
      ]
     },
     "execution_count": 15,
     "metadata": {},
     "output_type": "execute_result"
    }
   ],
   "source": [
    "train.isnull().sum()"
   ]
  },
  {
   "cell_type": "markdown",
   "metadata": {},
   "source": [
    "We have too many categoricals for variable org and tld. This would increase the dimension of our model, we might end up with not having enough data to accurately train the model."
   ]
  },
  {
   "cell_type": "code",
   "execution_count": 6,
   "metadata": {},
   "outputs": [
    {
     "name": "stdout",
     "output_type": "stream",
     "text": [
      "['iiitd' 'github' 'twitter' 'udacity' 'topcoder' 'quora' 'pvrcinemas'\n",
      " 'googlegroups' 'indiatimes' 'linkedin' 'centralesupelec' 'amazon' 'plus'\n",
      " 'crm' 'e' 'reply' 'angel' 'emailer' 'youtube' 'mails' 'usebackpack'\n",
      " 'hotmail' 'medium' 'symless' 'flipkartletters' 'getpostman' 'discuss'\n",
      " 'oracle-mail' 'academia-mail' 'statebankrewardz' 'edx' 'duolingo'\n",
      " 'hackerearth' 'unisys' 'facebookmail' 'brilliant' 'htc' 'mailer' 'mail'\n",
      " 'redwolf' nan 'mentor' 'researchgate' 'rs-components' 'nvidia' 'mail1'\n",
      " 'nedm' 'newsletter' 'geeksforgeeks' 'sampark' 'notifications' 'ruprr'\n",
      " 'airtable-2' 'news' 'marketing' 'codeschool' 'shop' 'ZOONIVERSE' 'send'\n",
      " 'explore' 'xprize' 'email' 'ndtvecommerce' 'web-spicejet' 'usief'\n",
      " 'innerchef' 'magoosh' 'media' 'bookmyshow' 'springboard' 'bigbasket'\n",
      " 'kaggle' 'in' 'signalprocessingsociety' 'researchgatemail' 'magento'\n",
      " 'codecademy' 'iheartdogs-email' 'updates' 't' 'lss' 'makemytripmails'\n",
      " 'phonepe' 'thomascook' 'neo4j' 'inoxmovies' 'primevideo' 'flat'\n",
      " 'datacamp' 'em' 'crazydomains' 'kotak' 'vairdo' 'airtable' 'imdb'\n",
      " 'coupondunia' 'pinterest' 'paytmemail' 'deeplearning' 'cleartrip'\n",
      " 'donate' 'ieee' 'quadkopters' 'mp1' 'm' 'newsgram' 'tatadocomo' 'dropbox'\n",
      " 'cambridge-intelligence' 'rapidapi' 'rcgroups' 'inria' 'emails' 'mapbox'\n",
      " 'tufinawatches' 'invite' 'national' 'walkfree' 'go' 'edm' 'technolutions'\n",
      " 'nptel' 'dataquest-0740d8e6e13d' 'synergy-project' 'entertainment'\n",
      " 'flipkartpromotions' 'outernet' 'sg' 'bg' 'insure' 'hackerrank' 'arya'\n",
      " 'overleaf' 'email1' 'messages' 'gmail' 'e-mail' 'paypal-exchanges'\n",
      " 'careers360' 'divx' 'referhire' 'cdconnect' 'mak' 'supelec' 'glassdoor'\n",
      " 'new' 'connect' 'Magento' 'neotechnology' 'communication' 'ecp'\n",
      " 'cbsnewsletter' 'digitalglobe-platform' 'limnu' 'myopportunity'\n",
      " 'clubvistara' 'fccashback' 'buffalo' 'readcube' 'awseducate' 'Mentor'\n",
      " 'flipkartmail' 'naaptoldeals' 'khanacademy' 'student-cs' 'trello'\n",
      " 'diydrones' 'oneplus' 'monsterindia' 'zoomgroup' 'atmel' 'ampleclick'\n",
      " 'ni' 'simbla' 'oneplusstore' 'hackerrankmail' 'maillist' 'cs'\n",
      " 'airpostmail' 'google' 'airvistara' 'stylusstudio' 'freshworks' 'emm'\n",
      " 'cardekholetters' 'applemusic' 'pbmails' 'info' 'diux' 'astrospeak'\n",
      " 'cakewalk' 'stackexchange' 'autodesk' 'sutlej-mail' 'interviewbit'\n",
      " 'creately' 'travel' 'healthie' 'et' 'apiai-a32c4dd4b716' 'docker'\n",
      " 'nobrokerletters' 'geeps' 'comma' 'imindmap' 'ride' 'naaptoldealz'\n",
      " 'box8letters' 'flipkart' 'pbmail' 'InsideApple' 'internations'\n",
      " 'repositoryhosting' 'trigger' 'Neotechnology' 'dcoder' 'blablacar'\n",
      " 'shining3d' 'foursquare' 'dropboxmail' 'agencenavigo' 'asuswebstorage'\n",
      " 'premiumjobalerts' 'sbi' 'cromaretail' 'smartsheet' 'twenty19' 'rcbazaar'\n",
      " 'marmalademail' 'entropay' 'payumoney' 'us' 'vito' 'truecaller'\n",
      " 'codeanywhere' 'olxemails' 'ready4' 'serviceclients' 'youth4work'\n",
      " 'naylormarketing' 'witai-2' 'asvspoof' 'centrepompidou' 'funaster' '126'\n",
      " 'globalfashion' 'pornhub' 'promo' 'layoutit' 'sc' 'critical'\n",
      " 'ames-it-solutions' 'flickr' 'uber' 'sci' 'policies' '3dr']\n",
      "257\n"
     ]
    }
   ],
   "source": [
    "print(train.org.unique())\n",
    "print(len(train.org.unique()))"
   ]
  },
  {
   "cell_type": "code",
   "execution_count": 7,
   "metadata": {},
   "outputs": [
    {
     "name": "stdout",
     "output_type": "stream",
     "text": [
      "['ac.in' 'com' 'fr' 'in' 'google.com' 'sdconnect.in' 'linkedin.com'\n",
      " 'ebay.in' 'co' 'cardekho.com' 'travel-makemytrip.com' 'pytorch.org' 'org'\n",
      " 'netflix.com' 'goodreads.com' nan 'net' 'co.in' 'prezi.com' 'asus.com'\n",
      " 'speakingtree.in' 'gov.in' 'pinterest.com' 'info' 'intercom-mail.com'\n",
      " 'foodpanda.in' 'goindigo.in' 'ORG' 'grammarly.com' 'nvidia.com' 'org.in'\n",
      " 'jabong.com' 'instagram.com' 'ieee.org' 'email' 'ibm.com'\n",
      " 'vincerowatches.com' 'paypal.com' 'bookmyshow.com' 'miscota.com'\n",
      " 'mail.coursera.org' 'supelec.fr' 'skype.com' 'io' 'ai' 'classmates.com'\n",
      " 'cardekhomailer.com' 'wfp.org' 'bitbucket.org' 'tripadvisor.com' 'hp.com'\n",
      " 'twitter.com' 'evernote.com' 'quoramail.com' 'lescrous.fr'\n",
      " 'surveymonkey.com' 'efinmail.com' 'iitm.ac.in' 'is' 'booking.com'\n",
      " 'vnet.ibm.com' 'reliancegeneral.co.in' 'asana.com' 'xoom.com' 'gopro.com'\n",
      " 'travel2-makemytrip.com' 'chtah.com' 'itunes.com' 'digitalglobe.com'\n",
      " 'microsoft.com' 'udacity.com' 'edu' 'godaddy.com' 'orkut.com'\n",
      " 'payback.in' 'codeproject.com' 'stanford.edu' 'ibmmail.com'\n",
      " 'mathworks.com' 'frankfurt-airport.news' 'change.org' 'mil' 'elitmus.biz'\n",
      " 'hobbyking.com' 'emails-makemytrip.com' 'uber.com' 'last.fm'\n",
      " 'centralesupelec.fr' 'bird.co' 'Apple.com' 'tech' 'oneplus.com' 'be'\n",
      " 'auchan.net' 'iiitd.ac.in' 'hosting' 'mobikwik.com' 'crazydomains.com'\n",
      " 'today' 'scientific-direct.net' 'mail.intercom.io']\n",
      "101\n"
     ]
    }
   ],
   "source": [
    "print(train.tld.unique())\n",
    "print(len(train.tld.unique()))"
   ]
  },
  {
   "cell_type": "code",
   "execution_count": 6,
   "metadata": {},
   "outputs": [
    {
     "name": "stdout",
     "output_type": "stream",
     "text": [
      "['multipart/alternative' 'multipart/mixed' 'text/html' 'text/plain'\n",
      " 'multipart/related' 'Text/Html' 'Multipart/Mixed']\n",
      "7\n"
     ]
    }
   ],
   "source": [
    "print(train.mail_type.unique())\n",
    "print(len(train.mail_type.unique()))"
   ]
  },
  {
   "cell_type": "markdown",
   "metadata": {},
   "source": [
    "For the date variable, we only want to keep what time the email is received."
   ]
  },
  {
   "cell_type": "code",
   "execution_count": 47,
   "metadata": {},
   "outputs": [],
   "source": [
    "train_time_received = []\n",
    "\n",
    "for element in train['date']:\n",
    "    train_time_received.append(element.split()[4][:2])\n",
    "    \n",
    "train['time_received'] = train_time_received"
   ]
  },
  {
   "cell_type": "code",
   "execution_count": 48,
   "metadata": {},
   "outputs": [],
   "source": [
    "test_time_received = []\n",
    "\n",
    "for element in test['date']:\n",
    "    test_time_received.append(element.split()[4][:2])\n",
    "    \n",
    "test['time_received'] = test_time_received"
   ]
  },
  {
   "cell_type": "code",
   "execution_count": 49,
   "metadata": {},
   "outputs": [
    {
     "data": {
      "text/html": [
       "<div>\n",
       "<style scoped>\n",
       "    .dataframe tbody tr th:only-of-type {\n",
       "        vertical-align: middle;\n",
       "    }\n",
       "\n",
       "    .dataframe tbody tr th {\n",
       "        vertical-align: top;\n",
       "    }\n",
       "\n",
       "    .dataframe thead th {\n",
       "        text-align: right;\n",
       "    }\n",
       "</style>\n",
       "<table border=\"1\" class=\"dataframe\">\n",
       "  <thead>\n",
       "    <tr style=\"text-align: right;\">\n",
       "      <th></th>\n",
       "      <th>Id</th>\n",
       "      <th>date</th>\n",
       "      <th>org</th>\n",
       "      <th>tld</th>\n",
       "      <th>ccs</th>\n",
       "      <th>bcced</th>\n",
       "      <th>mail_type</th>\n",
       "      <th>images</th>\n",
       "      <th>urls</th>\n",
       "      <th>salutations</th>\n",
       "      <th>designation</th>\n",
       "      <th>chars_in_subject</th>\n",
       "      <th>chars_in_body</th>\n",
       "      <th>label</th>\n",
       "      <th>time_received</th>\n",
       "    </tr>\n",
       "  </thead>\n",
       "  <tbody>\n",
       "    <tr>\n",
       "      <th>0</th>\n",
       "      <td>0</td>\n",
       "      <td>Sat, 2 Jul 2016 11:02:58 +0530</td>\n",
       "      <td>iiitd</td>\n",
       "      <td>ac.in</td>\n",
       "      <td>4</td>\n",
       "      <td>0</td>\n",
       "      <td>multipart/alternative</td>\n",
       "      <td>0</td>\n",
       "      <td>0</td>\n",
       "      <td>1</td>\n",
       "      <td>0</td>\n",
       "      <td>23</td>\n",
       "      <td>3020</td>\n",
       "      <td>0</td>\n",
       "      <td>11</td>\n",
       "    </tr>\n",
       "    <tr>\n",
       "      <th>1</th>\n",
       "      <td>1</td>\n",
       "      <td>Sun, 20 Mar 2016 12:05:42 +0530</td>\n",
       "      <td>iiitd</td>\n",
       "      <td>ac.in</td>\n",
       "      <td>9</td>\n",
       "      <td>0</td>\n",
       "      <td>multipart/alternative</td>\n",
       "      <td>0</td>\n",
       "      <td>0</td>\n",
       "      <td>1</td>\n",
       "      <td>0</td>\n",
       "      <td>44</td>\n",
       "      <td>5026</td>\n",
       "      <td>0</td>\n",
       "      <td>12</td>\n",
       "    </tr>\n",
       "    <tr>\n",
       "      <th>2</th>\n",
       "      <td>2</td>\n",
       "      <td>Tue, 16 Jan 2018 14:46:11 +0000 (UTC)</td>\n",
       "      <td>github</td>\n",
       "      <td>com</td>\n",
       "      <td>1</td>\n",
       "      <td>0</td>\n",
       "      <td>multipart/alternative</td>\n",
       "      <td>2</td>\n",
       "      <td>26</td>\n",
       "      <td>0</td>\n",
       "      <td>0</td>\n",
       "      <td>51</td>\n",
       "      <td>4792</td>\n",
       "      <td>0</td>\n",
       "      <td>14</td>\n",
       "    </tr>\n",
       "    <tr>\n",
       "      <th>3</th>\n",
       "      <td>3</td>\n",
       "      <td>Sat, 13 Sep 2014 22:36:23 +0000</td>\n",
       "      <td>twitter</td>\n",
       "      <td>com</td>\n",
       "      <td>0</td>\n",
       "      <td>0</td>\n",
       "      <td>multipart/alternative</td>\n",
       "      <td>10</td>\n",
       "      <td>94</td>\n",
       "      <td>0</td>\n",
       "      <td>0</td>\n",
       "      <td>66</td>\n",
       "      <td>47711</td>\n",
       "      <td>1</td>\n",
       "      <td>22</td>\n",
       "    </tr>\n",
       "    <tr>\n",
       "      <th>4</th>\n",
       "      <td>4</td>\n",
       "      <td>Tue, 26 Sep 2017 13:50:52 +0000 (UTC)</td>\n",
       "      <td>udacity</td>\n",
       "      <td>com</td>\n",
       "      <td>0</td>\n",
       "      <td>0</td>\n",
       "      <td>multipart/alternative</td>\n",
       "      <td>10</td>\n",
       "      <td>40</td>\n",
       "      <td>1</td>\n",
       "      <td>0</td>\n",
       "      <td>53</td>\n",
       "      <td>64317</td>\n",
       "      <td>1</td>\n",
       "      <td>13</td>\n",
       "    </tr>\n",
       "  </tbody>\n",
       "</table>\n",
       "</div>"
      ],
      "text/plain": [
       "   Id                                   date      org    tld  ccs  bcced  \\\n",
       "0   0         Sat, 2 Jul 2016 11:02:58 +0530    iiitd  ac.in    4      0   \n",
       "1   1        Sun, 20 Mar 2016 12:05:42 +0530    iiitd  ac.in    9      0   \n",
       "2   2  Tue, 16 Jan 2018 14:46:11 +0000 (UTC)   github    com    1      0   \n",
       "3   3        Sat, 13 Sep 2014 22:36:23 +0000  twitter    com    0      0   \n",
       "4   4  Tue, 26 Sep 2017 13:50:52 +0000 (UTC)  udacity    com    0      0   \n",
       "\n",
       "               mail_type  images  urls  salutations  designation  \\\n",
       "0  multipart/alternative       0     0            1            0   \n",
       "1  multipart/alternative       0     0            1            0   \n",
       "2  multipart/alternative       2    26            0            0   \n",
       "3  multipart/alternative      10    94            0            0   \n",
       "4  multipart/alternative      10    40            1            0   \n",
       "\n",
       "   chars_in_subject  chars_in_body  label time_received  \n",
       "0                23           3020      0            11  \n",
       "1                44           5026      0            12  \n",
       "2                51           4792      0            14  \n",
       "3                66          47711      1            22  \n",
       "4                53          64317      1            13  "
      ]
     },
     "execution_count": 49,
     "metadata": {},
     "output_type": "execute_result"
    }
   ],
   "source": [
    "train.head()"
   ]
  },
  {
   "cell_type": "code",
   "execution_count": 50,
   "metadata": {},
   "outputs": [
    {
     "data": {
      "text/html": [
       "<div>\n",
       "<style scoped>\n",
       "    .dataframe tbody tr th:only-of-type {\n",
       "        vertical-align: middle;\n",
       "    }\n",
       "\n",
       "    .dataframe tbody tr th {\n",
       "        vertical-align: top;\n",
       "    }\n",
       "\n",
       "    .dataframe thead th {\n",
       "        text-align: right;\n",
       "    }\n",
       "</style>\n",
       "<table border=\"1\" class=\"dataframe\">\n",
       "  <thead>\n",
       "    <tr style=\"text-align: right;\">\n",
       "      <th></th>\n",
       "      <th>Id</th>\n",
       "      <th>date</th>\n",
       "      <th>org</th>\n",
       "      <th>tld</th>\n",
       "      <th>ccs</th>\n",
       "      <th>bcced</th>\n",
       "      <th>mail_type</th>\n",
       "      <th>images</th>\n",
       "      <th>urls</th>\n",
       "      <th>salutations</th>\n",
       "      <th>designation</th>\n",
       "      <th>chars_in_subject</th>\n",
       "      <th>chars_in_body</th>\n",
       "      <th>time_received</th>\n",
       "    </tr>\n",
       "  </thead>\n",
       "  <tbody>\n",
       "    <tr>\n",
       "      <th>0</th>\n",
       "      <td>0</td>\n",
       "      <td>Thu, 28 Feb 2019 17:54:25 +0000</td>\n",
       "      <td>centralesupelec</td>\n",
       "      <td>fr</td>\n",
       "      <td>0</td>\n",
       "      <td>0</td>\n",
       "      <td>multipart/alternative</td>\n",
       "      <td>0</td>\n",
       "      <td>3</td>\n",
       "      <td>1</td>\n",
       "      <td>0</td>\n",
       "      <td>139</td>\n",
       "      <td>10544</td>\n",
       "      <td>17</td>\n",
       "    </tr>\n",
       "    <tr>\n",
       "      <th>1</th>\n",
       "      <td>1</td>\n",
       "      <td>Tue, 28 Nov 2017 04:22:14 +0000</td>\n",
       "      <td>oneplusstore</td>\n",
       "      <td>in</td>\n",
       "      <td>0</td>\n",
       "      <td>0</td>\n",
       "      <td>multipart/alternative</td>\n",
       "      <td>9</td>\n",
       "      <td>42</td>\n",
       "      <td>0</td>\n",
       "      <td>0</td>\n",
       "      <td>56</td>\n",
       "      <td>44178</td>\n",
       "      <td>04</td>\n",
       "    </tr>\n",
       "    <tr>\n",
       "      <th>2</th>\n",
       "      <td>2</td>\n",
       "      <td>Tue, 11 Jul 2017 13:50:54 +0200 (CEST)</td>\n",
       "      <td>entertainment</td>\n",
       "      <td>bookmyshow.com</td>\n",
       "      <td>0</td>\n",
       "      <td>0</td>\n",
       "      <td>text/html</td>\n",
       "      <td>17</td>\n",
       "      <td>41</td>\n",
       "      <td>0</td>\n",
       "      <td>0</td>\n",
       "      <td>37</td>\n",
       "      <td>24599</td>\n",
       "      <td>13</td>\n",
       "    </tr>\n",
       "    <tr>\n",
       "      <th>3</th>\n",
       "      <td>3</td>\n",
       "      <td>Tue, 12 Apr 2016 12:48:18 +0530</td>\n",
       "      <td>rs-components</td>\n",
       "      <td>co.in</td>\n",
       "      <td>0</td>\n",
       "      <td>0</td>\n",
       "      <td>multipart/alternative</td>\n",
       "      <td>15</td>\n",
       "      <td>45</td>\n",
       "      <td>0</td>\n",
       "      <td>0</td>\n",
       "      <td>38</td>\n",
       "      <td>10774</td>\n",
       "      <td>12</td>\n",
       "    </tr>\n",
       "    <tr>\n",
       "      <th>4</th>\n",
       "      <td>4</td>\n",
       "      <td>Thu, 10 Aug 2017 05:31:30 -0700</td>\n",
       "      <td>youtube</td>\n",
       "      <td>com</td>\n",
       "      <td>0</td>\n",
       "      <td>0</td>\n",
       "      <td>multipart/alternative</td>\n",
       "      <td>30</td>\n",
       "      <td>139</td>\n",
       "      <td>1</td>\n",
       "      <td>0</td>\n",
       "      <td>101</td>\n",
       "      <td>81760</td>\n",
       "      <td>05</td>\n",
       "    </tr>\n",
       "  </tbody>\n",
       "</table>\n",
       "</div>"
      ],
      "text/plain": [
       "   Id                                    date              org  \\\n",
       "0   0         Thu, 28 Feb 2019 17:54:25 +0000  centralesupelec   \n",
       "1   1         Tue, 28 Nov 2017 04:22:14 +0000     oneplusstore   \n",
       "2   2  Tue, 11 Jul 2017 13:50:54 +0200 (CEST)    entertainment   \n",
       "3   3         Tue, 12 Apr 2016 12:48:18 +0530    rs-components   \n",
       "4   4         Thu, 10 Aug 2017 05:31:30 -0700          youtube   \n",
       "\n",
       "              tld  ccs  bcced              mail_type  images  urls  \\\n",
       "0              fr    0      0  multipart/alternative       0     3   \n",
       "1              in    0      0  multipart/alternative       9    42   \n",
       "2  bookmyshow.com    0      0              text/html      17    41   \n",
       "3           co.in    0      0  multipart/alternative      15    45   \n",
       "4             com    0      0  multipart/alternative      30   139   \n",
       "\n",
       "   salutations  designation  chars_in_subject  chars_in_body time_received  \n",
       "0            1            0               139          10544            17  \n",
       "1            0            0                56          44178            04  \n",
       "2            0            0                37          24599            13  \n",
       "3            0            0                38          10774            12  \n",
       "4            1            0               101          81760            05  "
      ]
     },
     "execution_count": 50,
     "metadata": {},
     "output_type": "execute_result"
    }
   ],
   "source": [
    "test.head()"
   ]
  },
  {
   "cell_type": "markdown",
   "metadata": {},
   "source": [
    "We can see the emails recevied at 9 and 8 o'clock have a better chance of being promotional email."
   ]
  },
  {
   "cell_type": "code",
   "execution_count": 58,
   "metadata": {},
   "outputs": [
    {
     "data": {
      "text/plain": [
       "<matplotlib.axes._subplots.AxesSubplot at 0x12f25c390>"
      ]
     },
     "execution_count": 58,
     "metadata": {},
     "output_type": "execute_result"
    },
    {
     "data": {
      "image/png": "[encoded data removed]",
      "text/plain": [
       "<Figure size 432x288 with 1 Axes>"
      ]
     },
     "metadata": {
      "needs_background": "light"
     },
     "output_type": "display_data"
    }
   ],
   "source": [
    "sns.countplot(x = 'label', hue = 'time_received', data = train,\n",
    "              hue_order = train.time_received.value_counts().iloc[:5].index)"
   ]
  },
  {
   "cell_type": "markdown",
   "metadata": {},
   "source": [
    "From this plot we can see promotional almost all promotional emails have 0 people cc'd in the email."
   ]
  },
  {
   "cell_type": "code",
   "execution_count": 57,
   "metadata": {},
   "outputs": [
    {
     "data": {
      "text/plain": [
       "<matplotlib.axes._subplots.AxesSubplot at 0x12ef13d30>"
      ]
     },
     "execution_count": 57,
     "metadata": {},
     "output_type": "execute_result"
    },
    {
     "data": {
      "image/png": "[encoded data removed]",
      "text/plain": [
       "<Figure size 432x288 with 1 Axes>"
      ]
     },
     "metadata": {
      "needs_background": "light"
     },
     "output_type": "display_data"
    }
   ],
   "source": [
    "sns.countplot(x = 'label', hue = 'ccs', data = train,\n",
    "              hue_order = train.ccs.value_counts().iloc[:5].index)"
   ]
  },
  {
   "cell_type": "markdown",
   "metadata": {},
   "source": [
    "bcced and mail_type might not be crucial in determine whether an email is promotional or not."
   ]
  },
  {
   "cell_type": "code",
   "execution_count": 64,
   "metadata": {},
   "outputs": [
    {
     "data": {
      "text/plain": [
       "<matplotlib.axes._subplots.AxesSubplot at 0x12f7730f0>"
      ]
     },
     "execution_count": 64,
     "metadata": {},
     "output_type": "execute_result"
    },
    {
     "data": {
      "image/png": "[encoded data removed]",
      "text/plain": [
       "<Figure size 432x288 with 1 Axes>"
      ]
     },
     "metadata": {
      "needs_background": "light"
     },
     "output_type": "display_data"
    }
   ],
   "source": [
    "sns.countplot(x = 'label', hue = 'bcced', data = train)"
   ]
  },
  {
   "cell_type": "code",
   "execution_count": 65,
   "metadata": {},
   "outputs": [
    {
     "data": {
      "text/plain": [
       "<matplotlib.axes._subplots.AxesSubplot at 0x12f1cb0b8>"
      ]
     },
     "execution_count": 65,
     "metadata": {},
     "output_type": "execute_result"
    },
    {
     "data": {
      "image/png": "[encoded data removed]",
      "text/plain": [
       "<Figure size 432x288 with 1 Axes>"
      ]
     },
     "metadata": {
      "needs_background": "light"
     },
     "output_type": "display_data"
    }
   ],
   "source": [
    "sns.countplot(x = 'label', hue = 'mail_type', data = train,\n",
    "              hue_order = train.mail_type.value_counts().iloc[:5].index)"
   ]
  },
  {
   "cell_type": "code",
   "execution_count": null,
   "metadata": {},
   "outputs": [],
   "source": []
  }
 ],
 "metadata": {
  "kernelspec": {
   "display_name": "Python 3",
   "language": "python",
   "name": "python3"
  },
  "language_info": {
   "codemirror_mode": {
    "name": "ipython",
    "version": 3
   },
   "file_extension": ".py",
   "mimetype": "text/x-python",
   "name": "python",
   "nbconvert_exporter": "python",
   "pygments_lexer": "ipython3",
   "version": "3.7.3"
  }
 },
 "nbformat": 4,
 "nbformat_minor": 2
}
